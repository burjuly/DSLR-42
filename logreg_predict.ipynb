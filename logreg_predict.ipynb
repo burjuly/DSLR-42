{
 "cells": [
  {
   "cell_type": "code",
   "execution_count": 1,
   "id": "aerial-material",
   "metadata": {},
   "outputs": [],
   "source": [
    "import pandas as pd\n",
    "import numpy as np\n",
    "from sklearn import preprocessing"
   ]
  },
  {
   "cell_type": "code",
   "execution_count": 2,
   "id": "after-terrorist",
   "metadata": {},
   "outputs": [],
   "source": [
    "def data_preparation():\n",
    "    df = pd.read_csv('datasets/dataset_test.csv', index_col = 0)\n",
    "    \n",
    "    df = df.fillna(df.mean())\n",
    "\n",
    "    X = df[['Astronomy', 'Herbology', 'Divination', 'Ancient Runes', 'Charms', 'Flying']]\n",
    "    #X = df[['Astronomy', 'Herbology','Ancient Runes', 'Charms']]\n",
    "    X = preprocessing.normalize(X) #X = (X - X.min()) / (X.max() - X.min())\n",
    "    X = np.array(X)\n",
    "    X = np.concatenate((X, np.ones([len(X), 1])), axis = 1)  \n",
    "    \n",
    "    return(X)\n",
    "\n",
    "def get_weights():\n",
    "    return(np.array(pd.read_csv('weights.csv', index_col = 0)))\n",
    "\n",
    "def logreg_predict(X, matrix):\n",
    "    predicted_house = pd.DataFrame(range(len(X)))\n",
    "    houses = ['Gryffindor', 'Slytherin', 'Ravenclaw', 'Hufflepuff']\n",
    "    \n",
    "    for house in houses:\n",
    "        if house == 'Gryffindor':\n",
    "            index = 0\n",
    "        elif house == 'Slytherin':\n",
    "            index = 1\n",
    "        elif house == 'Ravenclaw':\n",
    "            index = 2\n",
    "        else:\n",
    "            index = 3\n",
    "        theta = matrix[index]\n",
    "    \n",
    "        predict = (1 / (1 + np.exp(-np.dot(X, theta.T)))).ravel()\n",
    "        predicted_house[index] = predict\n",
    "        \n",
    "    predicted_house['house_number_max'] = predicted_house[[0, 1, 2, 3]].idxmax(axis=\"columns\")\n",
    "    names_houses = [houses[i] for i in predicted_house['house_number_max']]\n",
    "    predicted_house['Hogwarts House'] = names_houses\n",
    "        \n",
    "    return(predicted_house)\n"
   ]
  },
  {
   "cell_type": "code",
   "execution_count": 3,
   "id": "waiting-sauce",
   "metadata": {},
   "outputs": [
    {
     "name": "stderr",
     "output_type": "stream",
     "text": [
      "/var/folders/zz/zyxvpxvq6csfxvn_n0001bhc000_w3/T/ipykernel_860/2644817551.py:4: FutureWarning: Dropping of nuisance columns in DataFrame reductions (with 'numeric_only=None') is deprecated; in a future version this will raise TypeError.  Select only valid columns before calling the reduction.\n",
      "  df = df.fillna(df.mean())\n"
     ]
    }
   ],
   "source": [
    "X = data_preparation()\n",
    "weights = get_weights()\n",
    "predicted_house = logreg_predict(X, weights)\n",
    "predicted_house['Hogwarts House'].to_csv('./houses.csv')"
   ]
  },
  {
   "cell_type": "code",
   "execution_count": null,
   "id": "hispanic-neighborhood",
   "metadata": {},
   "outputs": [],
   "source": []
  }
 ],
 "metadata": {
  "kernelspec": {
   "display_name": "Python 3",
   "language": "python",
   "name": "python3"
  },
  "language_info": {
   "codemirror_mode": {
    "name": "ipython",
    "version": 3
   },
   "file_extension": ".py",
   "mimetype": "text/x-python",
   "name": "python",
   "nbconvert_exporter": "python",
   "pygments_lexer": "ipython3",
   "version": "3.8.9"
  }
 },
 "nbformat": 4,
 "nbformat_minor": 5
}
