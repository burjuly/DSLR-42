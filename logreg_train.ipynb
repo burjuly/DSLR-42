{
 "cells": [
  {
   "cell_type": "code",
   "execution_count": 5,
   "id": "upper-trauma",
   "metadata": {},
   "outputs": [],
   "source": [
    "import pandas as pd\n",
    "import numpy as np\n",
    "from sklearn import preprocessing"
   ]
  },
  {
   "cell_type": "code",
   "execution_count": 6,
   "id": "private-rochester",
   "metadata": {},
   "outputs": [],
   "source": [
    "def data_preparation():\n",
    "    df = pd.read_csv('datasets/dataset_train.csv', index_col = 0)\n",
    "    df = df.fillna(df.mean(numeric_only=True))\n",
    "\n",
    "    df['Gryffindor'] = np.where(df['Hogwarts House'] ==  'Gryffindor', 1, 0)\n",
    "    df['Slytherin'] = np.where(df['Hogwarts House'] ==  'Slytherin', 1, 0)\n",
    "    df['Ravenclaw'] = np.where(df['Hogwarts House'] ==  'Ravenclaw', 1, 0)\n",
    "    df['Hufflepuff'] = np.where(df['Hogwarts House'] ==  'Hufflepuff', 1, 0)\n",
    "\n",
    "    X = df[['Astronomy', 'Herbology', 'Divination', 'Ancient Runes', 'Charms', 'Flying']]\n",
    "    #X = df[['Astronomy', 'Herbology','Ancient Runes', 'Charms']]\n",
    "    X = preprocessing.normalize(X) #X = (X - X.min()) / (X.max() - X.min())\n",
    "    X = np.array(X)\n",
    "    X = np.concatenate((X, np.ones([len(X), 1])), axis = 1)  \n",
    "\n",
    "    y = df[['Gryffindor', 'Slytherin', 'Ravenclaw', 'Hufflepuff']]\n",
    "    \n",
    "    return(X, y)\n",
    "\n",
    "def logreg_train(X, y):\n",
    "\n",
    "    lr = 0.5\n",
    "\n",
    "    W_matrix = []\n",
    "    houses = ['Gryffindor', 'Slytherin', 'Ravenclaw', 'Hufflepuff']\n",
    "\n",
    "    for house in houses:\n",
    "        y_train = y[house]\n",
    "        y_train = np.array(y_train)\n",
    "    \n",
    "        theta = np.zeros([1, 7]).ravel()\n",
    "        #theta = np.zeros([1, 5]).ravel()\n",
    "        for i in range(100000):\n",
    "            grad = np.zeros(theta.shape) #(7,)\n",
    "            predict = 1 / (1 + np.exp(-np.dot(X, theta.T)))\n",
    "            error = (predict - y_train).ravel()\n",
    "\n",
    "            for j in range(len(theta)): # for each parmeter\n",
    "                term = np.multiply(error, X[:,j]) # поэлементное умножение\n",
    "                grad[j] = np.sum(term) / len(X)\n",
    "            new_theta = theta - lr * grad\n",
    "\n",
    "        #if (np.sum(theta - new_theta) ** 2) ** 0.5 < 0.0001:\n",
    "        #    break\n",
    "            theta = new_theta\n",
    "        W_matrix.append(new_theta)\n",
    "    \n",
    "    return(W_matrix)\n",
    "    "
   ]
  },
  {
   "cell_type": "code",
   "execution_count": 7,
   "id": "straight-kidney",
   "metadata": {},
   "outputs": [],
   "source": [
    "X,y = data_preparation()\n",
    "matrix = logreg_train(X, y)\n",
    "pd.DataFrame(matrix).to_csv('./weights.csv')"
   ]
  },
  {
   "cell_type": "code",
   "execution_count": null,
   "id": "5154042b",
   "metadata": {},
   "outputs": [],
   "source": []
  }
 ],
 "metadata": {
  "kernelspec": {
   "display_name": "Python 3 (ipykernel)",
   "language": "python",
   "name": "python3"
  },
  "language_info": {
   "codemirror_mode": {
    "name": "ipython",
    "version": 3
   },
   "file_extension": ".py",
   "mimetype": "text/x-python",
   "name": "python",
   "nbconvert_exporter": "python",
   "pygments_lexer": "ipython3",
   "version": "3.10.6"
  }
 },
 "nbformat": 4,
 "nbformat_minor": 5
}
