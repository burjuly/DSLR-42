{
 "cells": [
  {
   "cell_type": "code",
   "execution_count": 5,
   "id": "remarkable-rapid",
   "metadata": {},
   "outputs": [],
   "source": [
    "import pandas as pd\n",
    "import matplotlib.pyplot as plt"
   ]
  },
  {
   "cell_type": "code",
   "execution_count": 6,
   "id": "environmental-medline",
   "metadata": {},
   "outputs": [],
   "source": [
    "df = pd.read_csv('datasets/dataset_train.csv', index_col = 0)"
   ]
  },
  {
   "cell_type": "markdown",
   "id": "f8619b5d",
   "metadata": {},
   "source": [
    "## Which Hogwarts course has a homogeneous score distribution between all four houses?\n",
    "## Answer: Care of Magical Creatures"
   ]
  },
  {
   "cell_type": "code",
   "execution_count": 7,
   "id": "hungarian-weekly",
   "metadata": {},
   "outputs": [
    {
     "data": {
      "text/plain": [
       "Text(0, 0.5, 'Frequency')"
      ]
     },
     "execution_count": 7,
     "metadata": {},
     "output_type": "execute_result"
    },
    {
     "data": {
      "image/png": "[encoded data removed]",
      "text/plain": [
       "<Figure size 432x288 with 1 Axes>"
      ]
     },
     "metadata": {
      "needs_background": "light"
     },
     "output_type": "display_data"
    }
   ],
   "source": [
    "fig, ax = plt.subplots()\n",
    "Gryffindor = df['Care of Magical Creatures'][df['Hogwarts House'] == 'Gryffindor']\n",
    "Slytherin = df['Care of Magical Creatures'][df['Hogwarts House'] == 'Slytherin']\n",
    "Ravenclaw = df['Care of Magical Creatures'][df['Hogwarts House'] == 'Ravenclaw']\n",
    "Hufflepuff = df['Care of Magical Creatures'][df['Hogwarts House'] == 'Hufflepuff']\n",
    "\n",
    "ax.hist(Hufflepuff, color='yellow', alpha=0.4)\n",
    "ax.hist(Ravenclaw, color='green', alpha=0.4)\n",
    "ax.hist(Gryffindor, color='red', alpha=0.5)\n",
    "ax.hist(Slytherin, color='blue', alpha=0.4)\n",
    "\n",
    "plt.title('Care of Magical Creatures')\n",
    "legend = ['Gryffindor', 'Slytherin', 'Ravenclaw', 'Hufflepuff']\n",
    "plt.legend(legend, loc='upper right')\n",
    "plt.xlabel('Marks')\n",
    "plt.ylabel('Frequency')"
   ]
  },
  {
   "cell_type": "code",
   "execution_count": null,
   "id": "dcf913b2",
   "metadata": {},
   "outputs": [],
   "source": []
  }
 ],
 "metadata": {
  "kernelspec": {
   "display_name": "Python 3 (ipykernel)",
   "language": "python",
   "name": "python3"
  },
  "language_info": {
   "codemirror_mode": {
    "name": "ipython",
    "version": 3
   },
   "file_extension": ".py",
   "mimetype": "text/x-python",
   "name": "python",
   "nbconvert_exporter": "python",
   "pygments_lexer": "ipython3",
   "version": "3.10.6"
  }
 },
 "nbformat": 4,
 "nbformat_minor": 5
}
