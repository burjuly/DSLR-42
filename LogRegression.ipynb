{
 "cells": [
  {
   "cell_type": "code",
   "execution_count": 1,
   "metadata": {},
   "outputs": [],
   "source": [
    "# TO DO\n",
    "# Оформить describe\n",
    "# В pair plot разбивка по факультетам"
   ]
  },
  {
   "cell_type": "code",
   "execution_count": 2,
   "metadata": {},
   "outputs": [],
   "source": [
    "import pandas as pd\n",
    "import numpy as np\n",
    "from sklearn import preprocessing\n",
    "from sklearn.model_selection import train_test_split\n",
    "import matplotlib.pyplot as plt"
   ]
  },
  {
   "cell_type": "code",
   "execution_count": 3,
   "metadata": {},
   "outputs": [
    {
     "data": {
      "text/plain": [
       "array([[-7.85243335e-01, -4.20385742e-03, -3.50014660e-03, ...,\n",
       "        -3.19652566e-01, -7.09559746e-02,  1.00000000e+00],\n",
       "       [-8.03589124e-01, -7.82059337e-03, -7.65421099e-03, ...,\n",
       "        -3.18856625e-01, -9.21532626e-02,  1.00000000e+00],\n",
       "       [ 5.60987586e-01, -8.23206014e-03,  5.07144063e-03, ...,\n",
       "        -3.56876562e-01,  2.74255774e-01,  1.00000000e+00],\n",
       "       ...,\n",
       "       [ 6.13161348e-01, -3.36867045e-03,  8.90048178e-03, ...,\n",
       "        -2.83602670e-01,  2.25134538e-01,  1.00000000e+00],\n",
       "       [-6.90877438e-01,  8.13127827e-03,  4.33455356e-03, ...,\n",
       "        -2.66143500e-01, -6.13926614e-04,  1.00000000e+00],\n",
       "       [-5.88077089e-01,  3.44006950e-03,  6.93984872e-03, ...,\n",
       "        -2.66119114e-01, -2.88824743e-03,  1.00000000e+00]])"
      ]
     },
     "execution_count": 3,
     "metadata": {},
     "output_type": "execute_result"
    }
   ],
   "source": [
    "df = pd.read_csv('datasets/dataset_train.csv', index_col = 0)\n",
    "df = df.fillna(df.mean())\n",
    "\n",
    "df['Gryffindor'] = np.where(df['Hogwarts House'] ==  'Gryffindor', 1, 0)\n",
    "df['Slytherin'] = np.where(df['Hogwarts House'] ==  'Slytherin', 1, 0)\n",
    "df['Ravenclaw'] = np.where(df['Hogwarts House'] ==  'Ravenclaw', 1, 0)\n",
    "df['Hufflepuff'] = np.where(df['Hogwarts House'] ==  'Hufflepuff', 1, 0)\n",
    "\n",
    "X = df[['Astronomy', 'Herbology', 'Divination', 'Ancient Runes', 'Charms', 'Flying']]\n",
    "X = preprocessing.normalize(X) #X = (X - X.min()) / (X.max() - X.min())\n",
    "\n",
    "y = df[['Gryffindor', 'Slytherin', 'Ravenclaw', 'Hufflepuff']]\n",
    "\n",
    "X, X_test, y, y_test = train_test_split(X, y)\n",
    "\n",
    "X = np.array(X)\n",
    "#y = np.array(y)\n",
    "X_test = np.array(X_test)\n",
    "#y_test = np.array(y_test)\n",
    "\n",
    "X = np.concatenate((X, np.ones([1200, 1])), axis = 1) \n",
    "X_test = np.concatenate((X_test, np.ones([400, 1])), axis = 1) \n",
    "X"
   ]
  },
  {
   "cell_type": "code",
   "execution_count": 4,
   "metadata": {},
   "outputs": [
    {
     "name": "stdout",
     "output_type": "stream",
     "text": [
      "[array([ 2.44017567, -4.69547616,  0.08781753, 12.78574531, 15.5941881 ,\n",
      "       34.52496902, -9.62545815]), array([ -6.88039284, -13.23524135, -12.96939313, -17.25026475,\n",
      "       -41.19647366,  -9.7751314 ,  -7.18118923]), array([-2.10541807,  0.04326435,  0.03129442,  0.02993638,  0.62143272,\n",
      "        0.07529138, -0.96053326]), array([ 0.28748195,  0.0023754 ,  0.00070613, -0.1601746 ,  0.04849115,\n",
      "       -0.02234336, -0.19650785])]\n"
     ]
    }
   ],
   "source": [
    "# TRAIN\n",
    "\n",
    "lr = 0.5\n",
    "\n",
    "W_matrix = []\n",
    "houses = ['Gryffindor', 'Slytherin', 'Ravenclaw', 'Hufflepuff']\n",
    "\n",
    "for house in houses:\n",
    "    y_train = y[house]\n",
    "    y_train = np.array(y_train)\n",
    "    \n",
    "    theta = np.zeros([1, 7]).ravel()\n",
    "    while True:\n",
    "        grad = np.zeros(theta.shape) #(7,)\n",
    "        predict = 1 / (1 + np.exp(-np.dot(X, theta.T)))\n",
    "        error = (predict - y_train).ravel()\n",
    "\n",
    "        for j in range(len(theta)): # for each parmeter\n",
    "            term = np.multiply(error, X[:,j]) # поэлементное умножение\n",
    "            grad[j] = np.sum(term) / len(X)\n",
    "        new_theta = theta - lr * grad\n",
    "\n",
    "        if (np.sum(theta - new_theta) ** 2) ** 0.5 < 0.0001:\n",
    "            break\n",
    "        theta = new_theta\n",
    "    W_matrix.append(new_theta)\n",
    "    \n",
    "print(W_matrix)\n",
    "    "
   ]
  },
  {
   "cell_type": "code",
   "execution_count": 5,
   "metadata": {},
   "outputs": [],
   "source": [
    "# TEST\n",
    "# houses = {'Gryffindor': 0, 'Slytherin': 1, 'Ravenclaw': 2, 'Hufflepuff': 3}\n",
    "\n",
    "df_result = pd.DataFrame(y_test)\n",
    "for house in houses:\n",
    "    if house == 'Gryffindor':\n",
    "        index = 0\n",
    "    elif house == 'Slytherin':\n",
    "        index = 1\n",
    "    elif house == 'Ravenclaw':\n",
    "        index = 2\n",
    "    else:\n",
    "        index = 3\n",
    "    theta = W_matrix[index]\n",
    "    \n",
    "    predict = (1 / (1 + np.exp(-np.dot(X_test, theta.T)))).ravel()\n",
    "    df_result[index] = predict\n",
    "    \n",
    "df_result.to_excel('./RESULT.xlsx')\n"
   ]
  },
  {
   "cell_type": "code",
   "execution_count": 6,
   "metadata": {},
   "outputs": [],
   "source": [
    "df_result['max'] = df_result[[0, 1, 2, 3]].max(axis=1)\n",
    "\n",
    "#df_result.where(df_result[0] == df_result['max'])\n",
    "df_result.to_excel('RESULT.xlsx')"
   ]
  },
  {
   "cell_type": "code",
   "execution_count": null,
   "metadata": {},
   "outputs": [],
   "source": []
  }
 ],
 "metadata": {
  "interpreter": {
   "hash": "e774977668b7c0ae8309835a5187aa7fbf7669e7d0bb59755bc63e573643edcd"
  },
  "kernelspec": {
   "display_name": "Python 3",
   "language": "python",
   "name": "python3"
  },
  "language_info": {
   "codemirror_mode": {
    "name": "ipython",
    "version": 3
   },
   "file_extension": ".py",
   "mimetype": "text/x-python",
   "name": "python",
   "nbconvert_exporter": "python",
   "pygments_lexer": "ipython3",
   "version": "3.8.10"
  }
 },
 "nbformat": 4,
 "nbformat_minor": 2
}
